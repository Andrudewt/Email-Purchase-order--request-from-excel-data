{
 "cells": [
  {
   "cell_type": "code",
   "execution_count": 6,
   "id": "cee0b39d",
   "metadata": {},
   "outputs": [],
   "source": [
    "from openpyxl import load_workbook\n",
    "import pandas as pd\n",
    "import numpy as np\n",
    "from openpyxl.utils.dataframe import dataframe_to_rows\n",
    "from pretty_html_table import build_table\n",
    "import smtplib\n",
    "from email.mime.multipart import MIMEMultipart\n",
    "from email.mime.text import MIMEText\n",
    "import time"
   ]
  },
  {
   "cell_type": "code",
   "execution_count": 12,
   "id": "c49ef792",
   "metadata": {
    "scrolled": true
   },
   "outputs": [
    {
     "name": "stdout",
     "output_type": "stream",
     "text": [
      "sent\n",
      "sent\n"
     ]
    }
   ],
   "source": [
    "path = r'C:\\Users\\Admin\\Email_purchase_request\\Input_data.xlsx'  #Path to the input excel file with data\n",
    "wb = load_workbook(path)\n",
    "ws = wb.worksheets[0]\n",
    "\n",
    "data = ws.values\n",
    "columns = next(data)[0:]\n",
    "df = pd.DataFrame(data, columns=columns)\n",
    "\n",
    "contacts = {'ABB': None, 'Chint': 'info@chint.ru',     # recipient addresses\n",
    "            'WAGO': 'info@wago.com', 'KEAZ': None}\n",
    "\n",
    "# Get the list of purchase requests\n",
    "requests = df['p_request'].value_counts()\n",
    "\n",
    "# схлопывание одинаковых по кол-ву\n",
    "df = df.groupby(['item_name'], as_index=False).agg(\n",
    "    {'manufacturer': 'first', 'part_no': 'first', 'quant': 'sum', 'unit': 'first'})[\n",
    "    ['manufacturer', 'part_no', 'item_name', 'quant', 'unit']].sort_values('manufacturer')\n",
    "\n",
    "# Divides the data into tables regarding to the supplier for further sending  \n",
    "# ДItems for which there’s no supplier information are replacing to the new sheet in the excel book \n",
    "wb.create_sheet('result', 1) # Creating a new sheet in the book \n",
    "ws1 = wb['result']        \n",
    "        \n",
    "for i in df['manufacturer'].unique():\n",
    "    data = (df[df['manufacturer'] == str(i)].sort_values(['item_name'] ,ascending=[True]))\n",
    "    table = build_table(data, 'blue_light')\n",
    "    try:\n",
    "        send_emails(table, contacts[str(i)])\n",
    "    except:    \n",
    "        for r in dataframe_to_rows(data, index=False, header=True):\n",
    "            ws1.append(r)\n",
    "\n",
    "# The following excel sheet contains the list of request that are not marked with a supplier yet\n",
    "wb.create_sheet('requests', 2) \n",
    "ws2 = wb['requests']            \n",
    "requests = np.array(requests.index.tolist()).reshape(len(requests), 1)\n",
    "for r in requests:\n",
    "    ws2.append(tuple(r))\n",
    "        \n",
    "wb.save(path) \n"
   ]
  },
  {
   "cell_type": "code",
   "execution_count": 2,
   "id": "e7c140b1",
   "metadata": {},
   "outputs": [],
   "source": [
    "# Send email function. Receives the letter body as an imput \n",
    "# Requires login and password \n",
    "\n",
    "def send_emails(tbl, adrs):\n",
    "\n",
    "        for mail in [adrs,]:\n",
    "            my_email = 'sender@email.com'\n",
    "            server = smtplib.SMTP('smtp.gmail.com', 587) #587 - port \n",
    "            server.starttls()\n",
    "            time.sleep(1)\n",
    "            server.login(my_email, \"password\")  # Gain access \n",
    "\n",
    "            msg = MIMEMultipart()  # Create message \n",
    "            msg['From'] = my_email  # Sender \n",
    "\n",
    "            msg['Subject'] = 'Запрос счета'  # Message theme \n",
    "            msg['Return-Receipt-To'] = my_email\n",
    "\n",
    "            msg['To'] = mail  # Receiver \n",
    "            body = (\"<!DOCTYPE html><head></head><body>Hello, dear \" + mail + \n",
    "                    '. Could you please send me your commercial offer for:' + \"</body></html>\")\n",
    "            msg.attach(MIMEText(body, 'html'))  # Add the text in the message \n",
    "            msg.attach(MIMEText(tbl, 'html'))\n",
    "            try:\n",
    "                server.send_message(msg)  # Sending the message \n",
    "            except Exception:\n",
    "                print(\"error \", mail)\n",
    "\n",
    "            else:\n",
    "                print(\"sent\")\n",
    "\n",
    "            time.sleep(40) # Delay to avoid ban \n",
    "\n",
    "            server.quit()  # Exit\n"
   ]
  }
 ],
 "metadata": {
  "kernelspec": {
   "display_name": "Python 3",
   "language": "python",
   "name": "python3"
  },
  "language_info": {
   "codemirror_mode": {
    "name": "ipython",
    "version": 3
   },
   "file_extension": ".py",
   "mimetype": "text/x-python",
   "name": "python",
   "nbconvert_exporter": "python",
   "pygments_lexer": "ipython3",
   "version": "3.6.3"
  }
 },
 "nbformat": 4,
 "nbformat_minor": 5
}
