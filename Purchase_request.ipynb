{
 "cells": [
  {
   "cell_type": "code",
   "execution_count": 6,
   "id": "cee0b39d",
   "metadata": {},
   "outputs": [],
   "source": [
    "from openpyxl import load_workbook\n",
    "import pandas as pd\n",
    "import numpy as np\n",
    "from openpyxl.utils.dataframe import dataframe_to_rows\n",
    "from pretty_html_table import build_table\n",
    "import smtplib\n",
    "from email.mime.multipart import MIMEMultipart\n",
    "from email.mime.text import MIMEText\n",
    "import time"
   ]
  },
  {
   "cell_type": "code",
   "execution_count": 12,
   "id": "c49ef792",
   "metadata": {
    "scrolled": true
   },
   "outputs": [
    {
     "name": "stdout",
     "output_type": "stream",
     "text": [
      "sent\n",
      "sent\n"
     ]
    }
   ],
   "source": [
    "path = r'C:\\Users\\Admin\\PycharmProjects\\pythonProject\\SSAU\\Project\\Input_data.xlsx'  #путь к файлу с данными\n",
    "wb = load_workbook(path)\n",
    "ws = wb.worksheets[0]\n",
    "\n",
    "data = ws.values\n",
    "columns = next(data)[0:]\n",
    "df = pd.DataFrame(data, columns=columns)\n",
    "\n",
    "contacts = {'ABB': None, 'Chint': 'info@chint.ru',     # адреса поставщиков по производителям\n",
    "            'WAGO': 'info@wago.com', 'КЭАЗ': None}\n",
    "\n",
    "# получить список обработанных заявок\n",
    "requests = df['заявка'].value_counts()\n",
    "\n",
    "# схлопывание одинаковых по кол-ву\n",
    "df = df.groupby(['наименование'], as_index=False).agg(\n",
    "    {'производитель': 'first', 'артикул': 'first', 'кол-во': 'sum', 'ед. изм.': 'first'})[\n",
    "    ['производитель', 'артикул', 'наименование', 'кол-во', 'ед. изм.']].sort_values('производитель')\n",
    "\n",
    "# разделение на таблички по производителям и отправка табличек адресатам. \n",
    "# Данные, для которых нет адреса отправки записываются на след листе в файле .xlsx\n",
    "wb.create_sheet('result', 1) # создаем новый лист в файле\n",
    "ws1 = wb['result']        \n",
    "        \n",
    "for i in df['производитель'].unique():\n",
    "    data = (df[df['производитель'] == str(i)].sort_values(['наименование'] ,ascending=[True]))\n",
    "    table = build_table(data, 'blue_light')\n",
    "    try:\n",
    "        send_emails(table, contacts[str(i)])\n",
    "    except:    \n",
    "        for r in dataframe_to_rows(data, index=False, header=True):\n",
    "            ws1.append(r)\n",
    "\n",
    "# на след листе выведем список номеров отработанных заявок\n",
    "wb.create_sheet('requests', 2) \n",
    "ws2 = wb['requests']            \n",
    "requests = np.array(requests.index.tolist()).reshape(len(requests), 1)\n",
    "for r in requests:\n",
    "    ws2.append(tuple(r))\n",
    "        \n",
    "wb.save(path) \n"
   ]
  },
  {
   "cell_type": "code",
   "execution_count": 2,
   "id": "e7c140b1",
   "metadata": {},
   "outputs": [],
   "source": [
    "# функция отправки email. На вход принимает тело письма и адрес.\n",
    "# необходимо внести логин, сервер и пароль.  \n",
    "\n",
    "def send_emails(tbl, adrs):\n",
    "\n",
    "        for mail in [adrs,]:\n",
    "            my_email = 'отправитель@email.com'\n",
    "            server = smtplib.SMTP('smtp.gmail.com', 587) #587 - порт\n",
    "            server.starttls()\n",
    "            time.sleep(1)\n",
    "            server.login(my_email, \"password\")  # Получаем доступ\n",
    "\n",
    "            msg = MIMEMultipart()  # Создаем сообщение\n",
    "            msg['From'] = my_email  # Отправитель\n",
    "\n",
    "            msg['Subject'] = 'Запрос счета'  # Тема сообщения\n",
    "            msg['Return-Receipt-To'] = my_email\n",
    "\n",
    "            msg['To'] = mail  # Получатель\n",
    "            body = (\"<!DOCTYPE html><head></head><body>Здравствуйте, уважаемый \" + mail + \n",
    "                    '. Прошу выставить счет на:' + \"</body></html>\")\n",
    "            msg.attach(MIMEText(body, 'html'))  # Добавляем в сообщение текст\n",
    "            msg.attach(MIMEText(tbl, 'html'))\n",
    "            try:\n",
    "                server.send_message(msg)  # Отправляем сообщение\n",
    "            except Exception:\n",
    "                print(\"error \", mail)\n",
    "\n",
    "            else:\n",
    "                print(\"sent\")\n",
    "\n",
    "            time.sleep(40) # Задержка, чтобы за спам не забанили\n",
    "\n",
    "            server.quit()  # Выходим\n"
   ]
  }
 ],
 "metadata": {
  "kernelspec": {
   "display_name": "Python 3",
   "language": "python",
   "name": "python3"
  },
  "language_info": {
   "codemirror_mode": {
    "name": "ipython",
    "version": 3
   },
   "file_extension": ".py",
   "mimetype": "text/x-python",
   "name": "python",
   "nbconvert_exporter": "python",
   "pygments_lexer": "ipython3",
   "version": "3.6.3"
  }
 },
 "nbformat": 4,
 "nbformat_minor": 5
}
